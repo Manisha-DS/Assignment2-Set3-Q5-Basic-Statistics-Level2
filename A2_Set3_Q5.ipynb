{
  "nbformat": 4,
  "nbformat_minor": 0,
  "metadata": {
    "colab": {
      "provenance": []
    },
    "kernelspec": {
      "name": "python3",
      "display_name": "Python 3"
    },
    "language_info": {
      "name": "python"
    }
  },
  "cells": [
    {
      "cell_type": "code",
      "execution_count": 1,
      "metadata": {
        "id": "q45sL-M0MrGK"
      },
      "outputs": [],
      "source": [
        "# import libraries #\n",
        "import numpy as np\n",
        "from scipy import stats\n",
        "from scipy.stats import norm"
      ]
    },
    {
      "cell_type": "code",
      "source": [
        "# H0: P>=0.05 (means mozilla has >=5% share of the market)\n",
        "# H1: P<0.05 (means mozilla has <5% share of the market)\n",
        "# the tests statistics will be used here is one sample z_test for proportions\n",
        "# z_test=(p^-p)/sqrt.p(1-p)/n, where p^=(0.046)4.6%, n=2000, p=(0.05)5%"
      ],
      "metadata": {
        "id": "DXp1l91VM9V5"
      },
      "execution_count": 2,
      "outputs": []
    },
    {
      "cell_type": "code",
      "source": [
        "z_test=(0.046-0.05)/(np.sqrt((0.05*(1-0.05))/2000))\n",
        "z_test"
      ],
      "metadata": {
        "colab": {
          "base_uri": "https://localhost:8080/",
          "height": 0
        },
        "id": "N_g4iybNNCdY",
        "outputId": "31b35432-719b-447a-b1ca-6d305c36d631"
      },
      "execution_count": 10,
      "outputs": [
        {
          "output_type": "execute_result",
          "data": {
            "text/plain": [
              "-0.820782681668124"
            ]
          },
          "metadata": {},
          "execution_count": 10
        }
      ]
    },
    {
      "cell_type": "code",
      "source": [
        "p_value=1-stats.norm.cdf(abs(z_test))\n",
        "p_value"
      ],
      "metadata": {
        "colab": {
          "base_uri": "https://localhost:8080/"
        },
        "id": "cmuj8QMARHZB",
        "outputId": "58796dae-c02b-461e-835c-0308e7128af4"
      },
      "execution_count": 15,
      "outputs": [
        {
          "output_type": "execute_result",
          "data": {
            "text/plain": [
              "0.20588503245107104"
            ]
          },
          "metadata": {},
          "execution_count": 15
        }
      ]
    },
    {
      "cell_type": "code",
      "source": [
        "# 0.205>0.05-----so accept null hypothesis"
      ],
      "metadata": {
        "id": "Ej0JsCQBSbCe"
      },
      "execution_count": null,
      "outputs": []
    }
  ]
}